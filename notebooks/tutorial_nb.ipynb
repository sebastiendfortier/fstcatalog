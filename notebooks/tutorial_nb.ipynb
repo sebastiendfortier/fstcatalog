{
    "cells": [
        {
            "attachments": {},
            "cell_type": "markdown",
            "metadata": {},
            "source": [
                "# Fst Catalog"
            ]
        },
        {
            "cell_type": "code",
            "execution_count": null,
            "metadata": {
                "execution": {
                    "iopub.execute_input": "2023-03-10T19:37:49.845018Z",
                    "iopub.status.busy": "2023-03-10T19:37:49.844864Z",
                    "iopub.status.idle": "2023-03-10T19:37:51.148624Z",
                    "shell.execute_reply": "2023-03-10T19:37:51.147917Z",
                    "shell.execute_reply.started": "2023-03-10T19:37:49.845001Z"
                },
                "tags": []
            },
            "outputs": [],
            "source": [
                "import datetime\n",
                "from glob import glob\n",
                "from pathlib import Path\n",
                "\n",
                "import numpy as np\n",
                "from osgeo import gdal\n",
                "import xarray as xr\n",
                "\n",
                "import fstcatalog\n",
                "import rioxarray"
            ]
        },
        {
            "attachments": {},
            "cell_type": "markdown",
            "metadata": {},
            "source": [
                "## Get some files to process"
            ]
        },
        {
            "cell_type": "code",
            "execution_count": null,
            "metadata": {
                "execution": {
                    "iopub.execute_input": "2023-03-10T19:37:51.149993Z",
                    "iopub.status.busy": "2023-03-10T19:37:51.149696Z",
                    "iopub.status.idle": "2023-03-10T19:37:51.171993Z",
                    "shell.execute_reply": "2023-03-10T19:37:51.171480Z",
                    "shell.execute_reply.started": "2023-03-10T19:37:51.149974Z"
                },
                "tags": []
            },
            "outputs": [],
            "source": [
                "current_date = datetime.datetime.now()\n",
                "year_month_day_string = current_date.strftime('%Y%m%d')\n",
                "\n",
                "filter = '00_01*'\n",
                "base_path1 = Path('/home/smco500/cmcprod/ppp5/suites/gdps/g1/gridpt.usr/prog/eta')\n",
                "base_path2 = Path('/home/smco500/cmcprod/ppp5/suites/gdps/g1/gridpt.usr/prog/diag')\n",
                "base_path3 = Path('/home/smco500/cmcprod/ppp5/suites/gdps/g1/gridpt.usr/prog/pres')\n",
                "base_path4 = Path('/home/smco500/cmcprod/ppp5/suites/rdps/r1/gridpt.usr/prog/eta')\n",
                "base_path5 = Path('/home/smco500/cmcprod/ppp5/suites/rdps/r1/gridpt.usr/prog/diag')\n",
                "base_path6 = Path('/home/smco500/cmcprod/ppp5/suites/rdps/r1/gridpt.usr/prog/pres')\n",
                "base_path7 = Path('/home/smco500/cmcprod/ppp5/suites/hrdps_national/n1/wxelements')\n",
                "base_path8 = Path('/home/smco500/cmcprod/ppp5/suites/hrdps_national/n1/sampling')\n",
                "base_path9 = Path('/space/hall5/sitestore/eccc/crd/ccmr/users/min000/fstd2nc-testfiles/')\n",
                "# files = glob(f'{base_path9}/*')\n",
                "files = glob(f'{base_path1}/{year_month_day_string}{filter}')\n",
                "files.extend(glob(f'{base_path2}/{year_month_day_string}{filter}'))\n",
                "files.extend(glob(f'{base_path3}/{year_month_day_string}{filter}'))\n",
                "files.extend(glob(f'{base_path4}/{year_month_day_string}{filter}'))\n",
                "files.extend(glob(f'{base_path5}/{year_month_day_string}{filter}'))\n",
                "files.extend(glob(f'{base_path6}/{year_month_day_string}{filter}'))\n",
                "files.extend(glob(f'{base_path7}/{year_month_day_string}{filter}'))\n",
                "files.extend(glob(f'{base_path8}/{year_month_day_string}{filter}'))\n"
            ]
        },
        {
            "attachments": {},
            "cell_type": "markdown",
            "metadata": {},
            "source": [
                "## Get Catalog of valid fst files"
            ]
        },
        {
            "cell_type": "code",
            "execution_count": null,
            "metadata": {
                "execution": {
                    "iopub.execute_input": "2023-03-10T19:37:51.173661Z",
                    "iopub.status.busy": "2023-03-10T19:37:51.173411Z",
                    "iopub.status.idle": "2023-03-10T19:37:51.389491Z",
                    "shell.execute_reply": "2023-03-10T19:37:51.388945Z",
                    "shell.execute_reply.started": "2023-03-10T19:37:51.173644Z"
                },
                "tags": []
            },
            "outputs": [],
            "source": [
                "cat = fstcatalog.FstCatalog(files).catalog()"
            ]
        },
        {
            "attachments": {},
            "cell_type": "markdown",
            "metadata": {},
            "source": [
                "## Inspect data"
            ]
        },
        {
            "cell_type": "code",
            "execution_count": null,
            "metadata": {},
            "outputs": [],
            "source": [
                "cat.df"
            ]
        },
        {
            "cell_type": "markdown",
            "metadata": {},
            "source": [
                "# Get a specific xarray Dataset by record nomvar"
            ]
        },
        {
            "cell_type": "code",
            "execution_count": null,
            "metadata": {},
            "outputs": [],
            "source": [
                "filter = (cat.df.nomvar=='TT') & (cat.df.path.str.contains('pres')) & (cat.df.crs_cf_name == 'rotated_pole') & (cat.df.level_unit == 'mb')\n",
                "display(cat.df.loc[filter])\n",
                "\n",
                "xr.merge([cat.get_dataset(i) for i in cat.df.loc[filter].index.tolist()])"
            ]
        },
        {
            "attachments": {},
            "cell_type": "markdown",
            "metadata": {},
            "source": [
                "## Get a specific xarray DataSet by id"
            ]
        },
        {
            "cell_type": "code",
            "execution_count": null,
            "metadata": {
                "execution": {
                    "iopub.execute_input": "2023-03-10T19:38:00.542152Z",
                    "iopub.status.busy": "2023-03-10T19:38:00.541829Z",
                    "iopub.status.idle": "2023-03-10T19:38:00.547946Z",
                    "shell.execute_reply": "2023-03-10T19:38:00.547430Z",
                    "shell.execute_reply.started": "2023-03-10T19:38:00.542133Z"
                },
                "tags": []
            },
            "outputs": [],
            "source": [
                "cat.get_dataset(441)\n"
            ]
        },
        {
            "attachments": {},
            "cell_type": "markdown",
            "metadata": {},
            "source": [
                "## Get a specific xarray DataSet with its projection information by id"
            ]
        },
        {
            "cell_type": "code",
            "execution_count": null,
            "metadata": {},
            "outputs": [],
            "source": [
                "ds, crs_name, proj4= cat.get_dataset_with_crs_info(441)\n",
                "display(ds)\n",
                "display(crs_name)\n",
                "display(proj4)"
            ]
        },
        {
            "cell_type": "code",
            "execution_count": null,
            "metadata": {},
            "outputs": [],
            "source": [
                "# display(ds.isel(time=0, pres=0))\n",
                "ds_subset = ds.isel(time=0, pres=0)\n",
                "src_crs = ds_subset['WKT'].data.item()\n",
                "# # Reproject to WGS84\n",
                "ds_subset = ds_subset.drop(['time','pres','leadtime','reftime', 'proj4','rotated_pole','lat','lon'])\n",
                "ds_subset.rio.write_crs(ds_subset['WKT'].data.item(), inplace=True)\n",
                "# display(ds_subset)\n",
                "ds_subset = ds_subset.rio.reproject(\"EPSG:4326\")\n",
                "ds_subset.TT"
            ]
        },
        {
            "attachments": {},
            "cell_type": "markdown",
            "metadata": {},
            "source": [
                "## Plot a field interactivly with hvplot"
            ]
        },
        {
            "cell_type": "code",
            "execution_count": null,
            "metadata": {},
            "outputs": [],
            "source": [
                "cat.get_hvplot(441)"
            ]
        },
        {
            "attachments": {},
            "cell_type": "markdown",
            "metadata": {},
            "source": [
                "## Display class attributes"
            ]
        },
        {
            "cell_type": "code",
            "execution_count": null,
            "metadata": {},
            "outputs": [],
            "source": [
                "cat.df"
            ]
        },
        {
            "cell_type": "code",
            "execution_count": null,
            "metadata": {},
            "outputs": [],
            "source": [
                "cat.files[0:10]"
            ]
        },
        {
            "attachments": {},
            "cell_type": "markdown",
            "metadata": {},
            "source": [
                "## View the decoded attributes"
            ]
        },
        {
            "cell_type": "code",
            "execution_count": null,
            "metadata": {},
            "outputs": [],
            "source": [
                "cat.advanced_view()"
            ]
        },
        {
            "attachments": {},
            "cell_type": "markdown",
            "metadata": {},
            "source": [
                "## View like the voir command"
            ]
        },
        {
            "cell_type": "code",
            "execution_count": null,
            "metadata": {},
            "outputs": [],
            "source": [
                "cat.voir_view()"
            ]
        },
        {
            "cell_type": "code",
            "execution_count": null,
            "metadata": {},
            "outputs": [],
            "source": [
                "import xarray as xr\n",
                "import numpy as np\n",
                "from osgeo import gdal"
            ]
        },
        {
            "cell_type": "code",
            "execution_count": null,
            "metadata": {},
            "outputs": [],
            "source": [
                "display(ds.proj4.data.item())"
            ]
        },
        {
            "cell_type": "code",
            "execution_count": null,
            "metadata": {},
            "outputs": [],
            "source": [
                "slice_data = ds['TT']\n",
                "# slice_data.coords\n",
                "\n",
                "def drop_dims(da):\n",
                "    # Check if 'rlat' and 'rlon' are in the coordinates\n",
                "    if 'rlat' in da.coords and 'rlon' in da.coords:\n",
                "        # Check if 'lat' and 'lon' are in the dimensions\n",
                "        if 'lat' in da.coords and 'lon' in da.coords:\n",
                "            # Remove 'lat' and 'lon' from the dimensions\n",
                "            da = da.drop(['lat', 'lon'])\n",
                "    return da\n",
                "\n",
                "slice_data = drop_dims(slice_data)\n",
                "# slice_data\n",
                "unique_time = np.unique(slice_data['time'].values)\n",
                "unique_pres = np.unique(slice_data['pres'].values)\n",
                "for t in unique_time:\n",
                "    for p in unique_pres:\n",
                "        # Extract the 2D array corresponding to this time and pressure level\n",
                "        # display(t,p,slice_data.sel(time=t, pres=p).drop(['time','pres']))\n",
                "        arr = slice_data.sel(time=t, pres=p).values\n",
                "        \n",
                "        # Define the output file name\n",
                "        filename = f'/home/sbf000/ss6/tiffs/TT_time{t}_pres{p}.tif'\n",
                "        \n",
                "        # Create a GeoTIFF file with the array data\n",
                "        driver = gdal.GetDriverByName('GTiff')\n",
                "        out_ds = driver.Create(filename, arr.shape[1], arr.shape[0], 1, gdal.GDT_Float32)\n",
                "        out_ds.SetGeoTransform((ds.rlon[0], ds.rlon[1]-ds.rlon[0], 0, ds.rlat[-1], 0, ds.rlat[1]-ds.rlat[0]))\n",
                "        out_ds.SetProjection(ds.proj4.data.item()) #'+proj=longlat +ellps=WGS84 +datum=WGS84 +no_defs'\n",
                "        out_band = out_ds.GetRasterBand(1)\n",
                "        out_band.WriteArray(arr)\n",
                "        out_band.FlushCache()\n",
                "    \n",
                "\n",
                "\n",
                "            "
            ]
        },
        {
            "cell_type": "code",
            "execution_count": null,
            "metadata": {},
            "outputs": [],
            "source": [
                "import asyncio\n",
                "import os \n",
                "current_date = datetime.datetime.now()\n",
                "year_month_day_string = current_date.strftime('%Y%m%d')\n",
                "\n",
                "filter = '00_*'\n",
                "base_path = Path('/home/smco500/cmcprod/ppp5/suites/') #gdps/g1/gridpt.usr/prog/\n",
                "dirs = [d for d in os.listdir(base_path) if os.path.isdir(os.path.join(base_path, d))]\n",
                "dirs\n",
                "# files = glob(f'{base_path}/**/{year_month_day_string}{filter}', recursive=True)\n",
                "# # files = glob(f'{base_path}/**/[0-9][0-9][0-9][0-9][0-9][0-9][0-9][0-9][0-9][0-9]_[0-9][0-9][0-9]', recursive=True)\n",
                "# files = np.unique([str(Path(f).parent).replace('/home/smco500/cmcprod/ppp5/suites/', '') for f in files ])\n",
                "# files\n"
            ]
        },
        {
            "cell_type": "code",
            "execution_count": 60,
            "metadata": {},
            "outputs": [
                {
                    "data": {
                        "text/plain": [
                            "[PosixPath('/home/smco500/cmcprod/ppp5/suites/gdps/g1/gridpt.usr/prog/eta'),\n",
                            " PosixPath('/home/smco500/cmcprod/ppp5/suites/gdps/g1/gridpt.usr/prog/oce'),\n",
                            " PosixPath('/home/smco500/cmcprod/ppp5/suites/gdps/g1/gridpt.usr/prog/pres'),\n",
                            " PosixPath('/home/smco500/cmcprod/ppp5/suites/gdps/g1/gridpt.usr/prog/diag'),\n",
                            " PosixPath('/home/smco500/cmcprod/ppp5/suites/gdps/g1/gridpt.usr/prog/sampling')]"
                        ]
                    },
                    "metadata": {},
                    "output_type": "display_data"
                },
                {
                    "data": {
                        "text/plain": [
                            "Timestamp('2023-03-24 00:00:00')"
                        ]
                    },
                    "metadata": {},
                    "output_type": "display_data"
                },
                {
                    "ename": "AttributeError",
                    "evalue": "'Timedelta' object has no attribute 'astype'",
                    "output_type": "error",
                    "traceback": [
                        "\u001b[0;31m---------------------------------------------------------------------------\u001b[0m",
                        "\u001b[0;31mAttributeError\u001b[0m                            Traceback (most recent call last)",
                        "Cell \u001b[0;32mIn[60], line 69\u001b[0m\n\u001b[1;32m     66\u001b[0m \u001b[39m# fnames = [Path(f).stem for f in files]\u001b[39;00m\n\u001b[1;32m     67\u001b[0m results \u001b[39m=\u001b[39m [{\u001b[39m'\u001b[39m\u001b[39mbase\u001b[39m\u001b[39m'\u001b[39m: base_path, \u001b[39m'\u001b[39m\u001b[39mmodel\u001b[39m\u001b[39m'\u001b[39m: \u001b[39mstr\u001b[39m(Path(f)\u001b[39m.\u001b[39mparent)\u001b[39m.\u001b[39mreplace(\u001b[39mf\u001b[39m\u001b[39m'\u001b[39m\u001b[39m{\u001b[39;00mops_dir\u001b[39m}\u001b[39;00m\u001b[39m/\u001b[39m\u001b[39m'\u001b[39m,\u001b[39m'\u001b[39m\u001b[39m'\u001b[39m)\u001b[39m.\u001b[39msplit(\u001b[39m'\u001b[39m\u001b[39m/\u001b[39m\u001b[39m'\u001b[39m)[\u001b[39m0\u001b[39m], \u001b[39m'\u001b[39m\u001b[39msub_path\u001b[39m\u001b[39m'\u001b[39m: \u001b[39mstr\u001b[39m(Path(f)\u001b[39m.\u001b[39mparent)\u001b[39m.\u001b[39mreplace(\u001b[39mf\u001b[39m\u001b[39m'\u001b[39m\u001b[39m{\u001b[39;00mbase_path\u001b[39m}\u001b[39;00m\u001b[39m/\u001b[39m\u001b[39m'\u001b[39m,\u001b[39m'\u001b[39m\u001b[39m'\u001b[39m), \u001b[39m'\u001b[39m\u001b[39mfile\u001b[39m\u001b[39m'\u001b[39m:\u001b[39mstr\u001b[39m(Path(f)\u001b[39m.\u001b[39mstem)\u001b[39m.\u001b[39mreplace(\u001b[39mf\u001b[39m\u001b[39m'\u001b[39m\u001b[39m{\u001b[39;00mbase_path\u001b[39m}\u001b[39;00m\u001b[39m/\u001b[39m\u001b[39m'\u001b[39m,\u001b[39m'\u001b[39m\u001b[39m'\u001b[39m)} \u001b[39mfor\u001b[39;00m f \u001b[39min\u001b[39;00m files]\n\u001b[0;32m---> 69\u001b[0m df \u001b[39m=\u001b[39m create_dataframe(current_datetime, results)\n\u001b[1;32m     70\u001b[0m \u001b[39m# display(df)\u001b[39;00m\n\u001b[1;32m     71\u001b[0m \n\u001b[1;32m     72\u001b[0m \u001b[39m# df.sort_values(['sub_path', 'datev', 'delta'],inplace=True)\u001b[39;00m\n\u001b[0;32m   (...)\u001b[0m\n\u001b[1;32m     75\u001b[0m \n\u001b[1;32m     76\u001b[0m \u001b[39m# df['nfile'] = pd.Series(nfile)\u001b[39;00m\n\u001b[1;32m     77\u001b[0m display(df)\n",
                        "Cell \u001b[0;32mIn[60], line 46\u001b[0m, in \u001b[0;36mcreate_dataframe\u001b[0;34m(current_datetime, results)\u001b[0m\n\u001b[1;32m     44\u001b[0m df[\u001b[39m'\u001b[39m\u001b[39mdateo\u001b[39m\u001b[39m'\u001b[39m] \u001b[39m=\u001b[39m pd\u001b[39m.\u001b[39mto_datetime(date_str)\n\u001b[1;32m     45\u001b[0m df[\u001b[39m'\u001b[39m\u001b[39mdatev\u001b[39m\u001b[39m'\u001b[39m] \u001b[39m=\u001b[39m df[\u001b[39m'\u001b[39m\u001b[39mdateo\u001b[39m\u001b[39m'\u001b[39m] \u001b[39m+\u001b[39m pd\u001b[39m.\u001b[39mto_timedelta(df[\u001b[39m'\u001b[39m\u001b[39mpass\u001b[39m\u001b[39m'\u001b[39m]\u001b[39m.\u001b[39mastype(\u001b[39mint\u001b[39m),\u001b[39m'\u001b[39m\u001b[39mh\u001b[39m\u001b[39m'\u001b[39m)\n\u001b[0;32m---> 46\u001b[0m df[\u001b[39m'\u001b[39m\u001b[39mdelta\u001b[39m\u001b[39m'\u001b[39m] \u001b[39m=\u001b[39m (df\u001b[39m.\u001b[39miloc[\u001b[39m0\u001b[39m]\u001b[39m.\u001b[39mdateo \u001b[39m-\u001b[39m current_datetime)\u001b[39m.\u001b[39mastype(\u001b[39m'\u001b[39m\u001b[39mtimedelta64[h]\u001b[39m\u001b[39m'\u001b[39m)\n\u001b[1;32m     48\u001b[0m \u001b[39mreturn\u001b[39;00m df\n",
                        "\u001b[0;31mAttributeError\u001b[0m: 'Timedelta' object has no attribute 'astype'"
                    ]
                }
            ],
            "source": [
                "import asyncio\n",
                "import multiprocessing\n",
                "import os\n",
                "from glob import glob\n",
                "from pathlib import Path\n",
                "import numpy as np\n",
                "from datetime import datetime, timedelta\n",
                "import pandas as pd\n",
                "import fstpy\n",
                "\n",
                "\n",
                "\n",
                "async def search_files(directory, pattern):\n",
                "    files = await asyncio.get_event_loop().run_in_executor(None, lambda: glob(f\"{directory}/**/{pattern}\", recursive=True))\n",
                "    return files\n",
                "\n",
                "\n",
                "def filter_fst_files(files, num_proc: int = 8):\n",
                "    with multiprocessing.Pool(min(num_proc,len(files))) as pool:\n",
                "        filtered_files = pool.map(fstpy.std_io.maybeFST, files)\n",
                "        files = np.where(filtered_files, files,'').tolist()\n",
                "        files = [f for f in files if f != '']\n",
                "    return files\n",
                "        \n",
                "\n",
                "\n",
                "def get_current_utc_datetime():\n",
                "    current_date = datetime.utcnow()\n",
                "    year_month_day_string = current_date.strftime('%Y-%m-%d')\n",
                "    current_datetime = pd.to_datetime(year_month_day_string, format='%Y-%m-%d')\n",
                "    current_datetime = current_datetime.replace(hour=0, minute=0, second=0, microsecond=0)\n",
                "    return current_datetime\n",
                "\n",
                "\n",
                "def create_dataframe(current_datetime, results):\n",
                "    df = pd.DataFrame(results)\n",
                "    df['suffix'] = pd.Series([f[15:]  if len(f) > 14 else '' for f in df.file])\n",
                "    year = df.file.str[0:4]\n",
                "    month = df.file.str[4:6]\n",
                "    day = df.file.str[6:8]\n",
                "    hour = df.file.str[8:10]\n",
                "    df['pass'] = df.file.str[11:14]\n",
                "    date_str = year + '-' + month + '-' + day + ' ' + hour\n",
                "    df['dateo'] = pd.to_datetime(date_str)\n",
                "    df['datev'] = df['dateo'] + pd.to_timedelta(df['pass'].astype(int),'h')\n",
                "    df['delta'] = (df.iloc[0].dateo - current_datetime).astype('timedelta64[h]')\n",
                "\n",
                "    return df\n",
                "\n",
                "\n",
                "\n",
                "ops_dir = Path('/home/smco500/cmcprod/ppp5/suites')\n",
                "base_path = ops_dir / Path('gdps/g1/gridpt.usr/prog')\n",
                "directories = [base_path / d for d in os.listdir(base_path) if os.path.isdir(os.path.join(base_path, d))]\n",
                "display(directories)\n",
                "pattern = '[0-9][0-9][0-9][0-9][0-9][0-9][0-9][0-9][0-9][0-9]_[0-9][0-9][0-9]*'\n",
                "tasks = [asyncio.create_task(search_files(directory, pattern)) for directory in directories]\n",
                "files = (await asyncio.gather(*tasks))\n",
                "files = [item for sublist in files for item in sublist]\n",
                "# files = filter_fst_files(files)\n",
                "\n",
                "\n",
                "current_datetime = get_current_utc_datetime()\n",
                "display(current_datetime)\n",
                "\n",
                "# fnames = [Path(f).stem for f in files]\n",
                "results = [{'base': base_path, 'model': str(Path(f).parent).replace(f'{ops_dir}/','').split('/')[0], 'sub_path': str(Path(f).parent).replace(f'{base_path}/',''), 'file':str(Path(f).stem).replace(f'{base_path}/','')} for f in files]\n",
                "\n",
                "df = create_dataframe(current_datetime, results)\n",
                "# display(df)\n",
                "\n",
                "# df.sort_values(['sub_path', 'datev', 'delta'],inplace=True)\n",
                "\n",
                "# nfile = [(current_datetime + timedelta(hours = int(d))).strftime('%Y%m%d%H') for d in df.delta]\n",
                "\n",
                "# df['nfile'] = pd.Series(nfile)\n",
                "display(df)\n",
                "current_datetime, df.iloc[0].dateo, df.iloc[0].dateo - (current_datetime), (current_datetime) + (df.iloc[0].dateo - (current_datetime))\n"
            ]
        }
    ],
    "metadata": {
        "kernelspec": {
            "display_name": "Python 3 (ipykernel)",
            "language": "python",
            "name": "python3"
        },
        "language_info": {
            "codemirror_mode": {
                "name": "ipython",
                "version": 3
            },
            "file_extension": ".py",
            "mimetype": "text/x-python",
            "name": "python",
            "nbconvert_exporter": "python",
            "pygments_lexer": "ipython3",
            "version": "3.9.15"
        },
        "vscode": {
            "interpreter": {
                "hash": "931f9e18074b18a2c5e86a330b8a1fb7e8011ae10c9a94e830dbd2f30784ebfe"
            }
        }
    },
    "nbformat": 4,
    "nbformat_minor": 4
}
