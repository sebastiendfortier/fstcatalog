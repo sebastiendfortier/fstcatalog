{
    "cells": [
        {
            "attachments": {},
            "cell_type": "markdown",
            "metadata": {},
            "source": [
                "# Fst Catalog"
            ]
        },
        {
            "cell_type": "code",
            "execution_count": null,
            "metadata": {
                "execution": {
                    "iopub.execute_input": "2023-03-10T19:37:49.845018Z",
                    "iopub.status.busy": "2023-03-10T19:37:49.844864Z",
                    "iopub.status.idle": "2023-03-10T19:37:51.148624Z",
                    "shell.execute_reply": "2023-03-10T19:37:51.147917Z",
                    "shell.execute_reply.started": "2023-03-10T19:37:49.845001Z"
                },
                "tags": []
            },
            "outputs": [],
            "source": [
                "import fstcatalog\n",
                "from glob import glob\n",
                "import datetime\n",
                "from pathlib import Path"
            ]
        },
        {
            "attachments": {},
            "cell_type": "markdown",
            "metadata": {},
            "source": [
                "## Get some files to process"
            ]
        },
        {
            "cell_type": "code",
            "execution_count": null,
            "metadata": {
                "execution": {
                    "iopub.execute_input": "2023-03-10T19:37:51.149993Z",
                    "iopub.status.busy": "2023-03-10T19:37:51.149696Z",
                    "iopub.status.idle": "2023-03-10T19:37:51.171993Z",
                    "shell.execute_reply": "2023-03-10T19:37:51.171480Z",
                    "shell.execute_reply.started": "2023-03-10T19:37:51.149974Z"
                },
                "tags": []
            },
            "outputs": [],
            "source": [
                "current_date = datetime.datetime.now()\n",
                "year_month_day_string = current_date.strftime('%Y%m%d')\n",
                "\n",
                "filter = '00_01*'\n",
                "base_path1 = Path('/home/smco500/cmcprod/ppp5/suites/gdps/g1/gridpt.usr/prog/eta')\n",
                "base_path2 = Path('/home/smco500/cmcprod/ppp5/suites/gdps/g1/gridpt.usr/prog/diag')\n",
                "base_path3 = Path('/home/smco500/cmcprod/ppp5/suites/gdps/g1/gridpt.usr/prog/pres')\n",
                "base_path4 = Path('/home/smco500/cmcprod/ppp5/suites/rdps/r1/gridpt.usr/prog/eta')\n",
                "base_path5 = Path('/home/smco500/cmcprod/ppp5/suites/rdps/r1/gridpt.usr/prog/diag')\n",
                "base_path6 = Path('/home/smco500/cmcprod/ppp5/suites/rdps/r1/gridpt.usr/prog/pres')\n",
                "base_path7 = Path('/home/smco500/cmcprod/ppp5/suites/hrdps_national/n1/wxelements')\n",
                "base_path8 = Path('/home/smco500/cmcprod/ppp5/suites/hrdps_national/n1/sampling')\n",
                "base_path9 = Path('/space/hall5/sitestore/eccc/crd/ccmr/users/min000/fstd2nc-testfiles/')\n",
                "# files = glob(f'{base_path9}/*')\n",
                "files = glob(f'{base_path1}/{year_month_day_string}{filter}')\n",
                "files.extend(glob(f'{base_path2}/{year_month_day_string}{filter}'))\n",
                "files.extend(glob(f'{base_path3}/{year_month_day_string}{filter}'))\n",
                "files.extend(glob(f'{base_path4}/{year_month_day_string}{filter}'))\n",
                "files.extend(glob(f'{base_path5}/{year_month_day_string}{filter}'))\n",
                "files.extend(glob(f'{base_path6}/{year_month_day_string}{filter}'))\n",
                "files.extend(glob(f'{base_path7}/{year_month_day_string}{filter}'))\n",
                "files.extend(glob(f'{base_path8}/{year_month_day_string}{filter}'))\n"
            ]
        },
        {
            "attachments": {},
            "cell_type": "markdown",
            "metadata": {},
            "source": [
                "## Get Catalog of valid fst files"
            ]
        },
        {
            "cell_type": "code",
            "execution_count": null,
            "metadata": {
                "execution": {
                    "iopub.execute_input": "2023-03-10T19:37:51.173661Z",
                    "iopub.status.busy": "2023-03-10T19:37:51.173411Z",
                    "iopub.status.idle": "2023-03-10T19:37:51.389491Z",
                    "shell.execute_reply": "2023-03-10T19:37:51.388945Z",
                    "shell.execute_reply.started": "2023-03-10T19:37:51.173644Z"
                },
                "tags": []
            },
            "outputs": [],
            "source": [
                "cat = fstcatalog.FstCatalog(files).to_intake()"
            ]
        },
        {
            "attachments": {},
            "cell_type": "markdown",
            "metadata": {},
            "source": [
                "## Check for available datasets"
            ]
        },
        {
            "cell_type": "code",
            "execution_count": null,
            "metadata": {
                "execution": {
                    "iopub.execute_input": "2023-03-10T19:38:00.542152Z",
                    "iopub.status.busy": "2023-03-10T19:38:00.541829Z",
                    "iopub.status.idle": "2023-03-10T19:38:00.547946Z",
                    "shell.execute_reply": "2023-03-10T19:38:00.547430Z",
                    "shell.execute_reply.started": "2023-03-10T19:38:00.542133Z"
                },
                "tags": []
            },
            "outputs": [],
            "source": [
                "list(cat)"
            ]
        },
        {
            "attachments": {},
            "cell_type": "markdown",
            "metadata": {},
            "source": [
                "## Get a specific xarray DataSet with its projection information by id"
            ]
        },
        {
            "cell_type": "code",
            "execution_count": null,
            "metadata": {},
            "outputs": [],
            "source": [
                "ds, crs_name, proj4= cat.get_dataset_with_crs_info(20)\n",
                "display(ds)\n",
                "display(crs_name)\n",
                "display(proj4)"
            ]
        },
        {
            "attachments": {},
            "cell_type": "markdown",
            "metadata": {},
            "source": [
                "# Get a specific xarray Dataset by record nomvar"
            ]
        },
        {
            "cell_type": "code",
            "execution_count": null,
            "metadata": {},
            "outputs": [],
            "source": [
                "import xarray as xr\n",
                "\n",
                "filter = (cat.df.nomvar=='TT') & (cat.df.path.str.contains('pres')) & (cat.df.crs_cf_name == 'rotated_pole') & (cat.df.level_unit == 'mb')\n",
                "display(cat.df.loc[filter])\n",
                "\n",
                "xr.merge([cat.get_dataset(i) for i in cat.df.loc[filter].index.tolist()])\n"
            ]
        },
        {
            "attachments": {},
            "cell_type": "markdown",
            "metadata": {},
            "source": [
                "## Display class attributes"
            ]
        },
        {
            "cell_type": "code",
            "execution_count": null,
            "metadata": {},
            "outputs": [],
            "source": [
                "cat.df"
            ]
        },
        {
            "cell_type": "code",
            "execution_count": null,
            "metadata": {},
            "outputs": [],
            "source": [
                "cat.files[0:10]"
            ]
        },
        {
            "attachments": {},
            "cell_type": "markdown",
            "metadata": {},
            "source": [
                "## View the decoded attributes"
            ]
        },
        {
            "cell_type": "code",
            "execution_count": null,
            "metadata": {},
            "outputs": [],
            "source": [
                "cat.advanced_view()"
            ]
        },
        {
            "attachments": {},
            "cell_type": "markdown",
            "metadata": {},
            "source": [
                "## View like the voir command"
            ]
        },
        {
            "cell_type": "code",
            "execution_count": null,
            "metadata": {},
            "outputs": [],
            "source": [
                "cat.voir_view()"
            ]
        }
    ],
    "metadata": {
        "kernelspec": {
            "display_name": "Python 3 (ipykernel)",
            "language": "python",
            "name": "python3"
        },
        "language_info": {
            "codemirror_mode": {
                "name": "ipython",
                "version": 3
            },
            "file_extension": ".py",
            "mimetype": "text/x-python",
            "name": "python",
            "nbconvert_exporter": "python",
            "pygments_lexer": "ipython3",
            "version": "3.9.15"
        },
        "vscode": {
            "interpreter": {
                "hash": "931f9e18074b18a2c5e86a330b8a1fb7e8011ae10c9a94e830dbd2f30784ebfe"
            }
        }
    },
    "nbformat": 4,
    "nbformat_minor": 4
}
